{
 "cells": [
  {
   "cell_type": "code",
   "execution_count": 1,
   "id": "seeing-halifax",
   "metadata": {},
   "outputs": [
    {
     "name": "stdout",
     "output_type": "stream",
     "text": [
      "123\n"
     ]
    }
   ],
   "source": [
    "a=input()"
   ]
  },
  {
   "cell_type": "code",
   "execution_count": 2,
   "id": "express-grass",
   "metadata": {},
   "outputs": [
    {
     "name": "stdout",
     "output_type": "stream",
     "text": [
      "123123\n"
     ]
    }
   ],
   "source": [
    "a=input(\"123\")"
   ]
  },
  {
   "cell_type": "code",
   "execution_count": 3,
   "id": "pleasant-emergency",
   "metadata": {},
   "outputs": [
    {
     "name": "stdout",
     "output_type": "stream",
     "text": [
      "hh12\n"
     ]
    }
   ],
   "source": [
    "b=input(\"hh\")\n"
   ]
  },
  {
   "cell_type": "code",
   "execution_count": 4,
   "id": "respected-interval",
   "metadata": {},
   "outputs": [
    {
     "name": "stdout",
     "output_type": "stream",
     "text": [
      "12312\n"
     ]
    }
   ],
   "source": [
    "print(a+b)"
   ]
  },
  {
   "cell_type": "code",
   "execution_count": 5,
   "id": "owned-ground",
   "metadata": {},
   "outputs": [
    {
     "name": "stdout",
     "output_type": "stream",
     "text": [
      "mm123\n",
      "12\n",
      "135\n"
     ]
    }
   ],
   "source": [
    "a=int(input(\"mm\"))\n",
    "b=int(input())\n",
    "print(a+b)"
   ]
  },
  {
   "cell_type": "code",
   "execution_count": 7,
   "id": "beneficial-domestic",
   "metadata": {
    "scrolled": true
   },
   "outputs": [
    {
     "name": "stdout",
     "output_type": "stream",
     "text": [
      "1 2 3\n"
     ]
    }
   ],
   "source": [
    "a,b,c=map(int,input().split())"
   ]
  },
  {
   "cell_type": "code",
   "execution_count": 8,
   "id": "opening-entrance",
   "metadata": {},
   "outputs": [
    {
     "name": "stdout",
     "output_type": "stream",
     "text": [
      "1 2 3\n"
     ]
    }
   ],
   "source": [
    "print(a,b,c)"
   ]
  },
  {
   "cell_type": "code",
   "execution_count": 11,
   "id": "departmental-crime",
   "metadata": {},
   "outputs": [
    {
     "ename": "TypeError",
     "evalue": "unsupported operand type(s) for &: 'str' and 'str'",
     "output_type": "error",
     "traceback": [
      "\u001b[1;31m---------------------------------------------------------------------------\u001b[0m",
      "\u001b[1;31mTypeError\u001b[0m                                 Traceback (most recent call last)",
      "\u001b[1;32m<ipython-input-11-c99bba9b1e29>\u001b[0m in \u001b[0;36m<module>\u001b[1;34m\u001b[0m\n\u001b[1;32m----> 1\u001b[1;33m \u001b[1;34m'a, b. c'\u001b[0m\u001b[1;33m.\u001b[0m\u001b[0msplit\u001b[0m\u001b[1;33m(\u001b[0m\u001b[1;34m','\u001b[0m \u001b[1;33m&\u001b[0m\u001b[1;34m'.'\u001b[0m\u001b[1;33m)\u001b[0m\u001b[1;33m\u001b[0m\u001b[1;33m\u001b[0m\u001b[0m\n\u001b[0m",
      "\u001b[1;31mTypeError\u001b[0m: unsupported operand type(s) for &: 'str' and 'str'"
     ]
    }
   ],
   "source": [
    "'a, b. c'.split(',')"
   ]
  },
  {
   "cell_type": "code",
   "execution_count": 14,
   "id": "breathing-german",
   "metadata": {},
   "outputs": [],
   "source": [
    "a1=['1', 'ff','r']\n",
    "s1=' ,'.join(a1)"
   ]
  },
  {
   "cell_type": "code",
   "execution_count": 15,
   "id": "respected-worker",
   "metadata": {},
   "outputs": [
    {
     "name": "stdout",
     "output_type": "stream",
     "text": [
      "1 ,ff ,r\n"
     ]
    }
   ],
   "source": [
    "print(s1)"
   ]
  },
  {
   "cell_type": "code",
   "execution_count": 21,
   "id": "occupational-conversation",
   "metadata": {},
   "outputs": [
    {
     "name": "stdout",
     "output_type": "stream",
     "text": [
      "ba\n"
     ]
    }
   ],
   "source": [
    "txt='absfas'\n",
    "print(txt[1::-1])"
   ]
  },
  {
   "cell_type": "code",
   "execution_count": null,
   "id": "advised-sending",
   "metadata": {},
   "outputs": [],
   "source": [
    "a=5\n",
    "b=1\n",
    "if a%b==0:\n",
    "    print(1)\n",
    "elif a-b==3:\n",
    "        print(2)\n",
    "else:\n",
    "        print('ss')"
   ]
  },
  {
   "cell_type": "code",
   "execution_count": 22,
   "id": "alternate-billy",
   "metadata": {},
   "outputs": [
    {
     "name": "stdout",
     "output_type": "stream",
     "text": [
      "myf\n",
      "1\n"
     ]
    }
   ],
   "source": [
    "def my_decorator(fn):\n",
    "   def wrapper():\n",
    "       print(fn.__name__)\n",
    "       return fn()\n",
    "   return wrapper\n",
    "\n",
    "@my_decorator\n",
    "def myf():\n",
    "    return 1\n",
    "print(myf())"
   ]
  },
  {
   "cell_type": "code",
   "execution_count": 23,
   "id": "contrary-royal",
   "metadata": {},
   "outputs": [
    {
     "name": "stdout",
     "output_type": "stream",
     "text": [
      "myf2\n",
      "2\n"
     ]
    }
   ],
   "source": [
    "def myf2():\n",
    "    return 2\n",
    "\n",
    "myf2=my_decorator(myf2)\n",
    "print(myf2())"
   ]
  },
  {
   "cell_type": "code",
   "execution_count": null,
   "id": "funky-spank",
   "metadata": {},
   "outputs": [],
   "source": []
  }
 ],
 "metadata": {
  "kernelspec": {
   "display_name": "Python 3",
   "language": "python",
   "name": "python3"
  },
  "language_info": {
   "codemirror_mode": {
    "name": "ipython",
    "version": 3
   },
   "file_extension": ".py",
   "mimetype": "text/x-python",
   "name": "python",
   "nbconvert_exporter": "python",
   "pygments_lexer": "ipython3",
   "version": "3.6.8"
  }
 },
 "nbformat": 4,
 "nbformat_minor": 5
}
